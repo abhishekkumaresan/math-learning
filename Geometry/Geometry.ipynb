{
 "cells": [
  {
   "cell_type": "code",
   "execution_count": 26,
   "metadata": {},
   "outputs": [],
   "source": [
    "class Point:\n",
    "    def __init__(self, x: float, y: float) -> None:\n",
    "        self.x = x\n",
    "        self.y = y\n",
    "\n",
    "    def __str__(self) -> str:\n",
    "        return f\"({self.x},{self.y})\"\n",
    "\n",
    "\n",
    "class Line:\n",
    "    def __init__(self, p1: Point, p2: Point) -> None:\n",
    "        self.p1 = p1\n",
    "        self.p2 = p2\n",
    "\n",
    "    def __str__(self) -> str:\n",
    "        return f\"({self.p1},{self.p2})\"\n",
    "\n",
    "    def mid_point(self):\n",
    "        y = (self.p1.y - self.p2.y) / 2\n",
    "        x = (self.p1.x - self.p2.x) / 2\n",
    "        return Point(x, y)\n",
    "\n",
    "    def slope(self):\n",
    "        delta_y = self.p2.y - self.p1.y\n",
    "        delta_x = self.p2.x - self.p1.x\n",
    "\n",
    "        # print(delta_y)\n",
    "        # print(delta_x)\n",
    "        return delta_y / delta_x\n"
   ]
  },
  {
   "cell_type": "code",
   "execution_count": 32,
   "metadata": {},
   "outputs": [],
   "source": [
    "def line_comparison(l1: Line, l2: Line):\n",
    "    l1_slope = l1.slope()\n",
    "    l2_slope = l2.slope()\n",
    "    ret = f\"Lines {l1} with slope {l1_slope} and {l2} with slope {l2_slope}\"\n",
    "    if l1_slope == l2_slope:\n",
    "        return f\"{ret} are parallel\"\n",
    "    # Negative reciprocal\n",
    "    elif -1 / l1_slope == l2_slope:\n",
    "        return f\"{ret} are perpendicular\"\n",
    "    else:\n",
    "        return f\"{ret} are neither parallel nor  perpendicular\"\n"
   ]
  },
  {
   "cell_type": "code",
   "execution_count": 35,
   "metadata": {},
   "outputs": [
    {
     "name": "stdout",
     "output_type": "stream",
     "text": [
      "ab cd Lines ((-7,2),(2,5)) with slope 0.3333333333333333 and ((4,-1),(-5,-4)) with slope 0.3333333333333333 are parallel\n",
      "ab bc Lines ((-7,2),(2,5)) with slope 0.3333333333333333 and ((2,5),(4,-1)) with slope -3.0 are perpendicular\n",
      "ac cd Lines ((-7,2),(4,-1)) with slope -0.2727272727272727 and ((4,-1),(-5,-4)) with slope 0.3333333333333333 are neither parallel nor  perpendicular\n",
      "bc bd Lines ((2,5),(4,-1)) with slope -3.0 and ((2,5),(-5,-4)) with slope 1.2857142857142858 are neither parallel nor  perpendicular\n",
      "ac bd Lines ((-7,2),(4,-1)) with slope -0.2727272727272727 and ((2,5),(-5,-4)) with slope 1.2857142857142858 are neither parallel nor  perpendicular\n",
      "bd ab Lines ((-7,2),(-5,-4)) with slope -3.0 and ((-7,2),(2,5)) with slope 0.3333333333333333 are perpendicular\n"
     ]
    }
   ],
   "source": [
    "l1 =Line(Point(-2, 2),Point(1, 8))\n",
    "l2 =Line(Point(3, 6),Point(5, 2))\n",
    "l3 =Line(Point(3, 0),Point(7, -2))\n",
    "\n",
    "# print(line_comparison(l1,l2))\n",
    "# print(line_comparison(l1,l3))\n",
    "# print(line_comparison(l2,l3))\n",
    "\n",
    "\n",
    "l4 =Line(Point(0,3),Point(6,7))\n",
    "l5 =Line(Point(5, 4),Point(8, 6))\n",
    "l6 =Line(Point(1, -2),Point(7, 2))\n",
    "\n",
    "# print(line_comparison(l4,l5))\n",
    "# print(line_comparison(l4,l6))\n",
    "# print(line_comparison(l5,l6))\n",
    "\n",
    "a = Point(-7,2)\n",
    "b = Point(2,5)\n",
    "c = Point(4,-1)\n",
    "d = Point(-5,-4)\n",
    "\n",
    "ab = Line(a,b)\n",
    "cd = Line(c,d)\n",
    "bc = Line(b,c)\n",
    "ac = Line(a,c)\n",
    "bd = Line(b,d)\n",
    "ad = Line(a,d)\n",
    "\n",
    "print(f\"ab cd\",line_comparison(ab,cd))\n",
    "print(f\"ab bc\",line_comparison(ab,bc))\n",
    "print(f\"ac cd\",line_comparison(ac,cd))\n",
    "print(f\"bc bd\",line_comparison(bc,bd))\n",
    "print(f\"ac bd\",line_comparison(ac,bd))\n",
    "print(f\"bd ab\",line_comparison(ad,ab))"
   ]
  },
  {
   "cell_type": "code",
   "execution_count": null,
   "metadata": {},
   "outputs": [],
   "source": [
    "p1 = Point(1, -3)\n",
    "p2 = Point(9, 5)\n",
    "p3 = Point(2, 4)\n",
    "p4 = Point(6, -3)\n",
    "p5 = Point(3, 0)\n",
    "p6 = Point(6, 6)\n",
    "p7 = Point(1, 1)\n",
    "p8 = Point(9, 1)\n",
    "print(Line(p1, p2).mid_point())\n",
    "print(Line(p3, p4).mid_point())\n",
    "print(Line(p5, p6).mid_point())\n",
    "print(Line(p7, p8).mid_point())"
   ]
  }
 ],
 "metadata": {
  "kernelspec": {
   "display_name": "Python 3.9.7 64-bit",
   "language": "python",
   "name": "python3"
  },
  "language_info": {
   "codemirror_mode": {
    "name": "ipython",
    "version": 3
   },
   "file_extension": ".py",
   "mimetype": "text/x-python",
   "name": "python",
   "nbconvert_exporter": "python",
   "pygments_lexer": "ipython3",
   "version": "3.9.7"
  },
  "orig_nbformat": 4,
  "vscode": {
   "interpreter": {
    "hash": "ab51e803b4d6f5b0978a3f676c24322c0e00885b0d61d4e22ecf07f7dc3e03e4"
   }
  }
 },
 "nbformat": 4,
 "nbformat_minor": 2
}
